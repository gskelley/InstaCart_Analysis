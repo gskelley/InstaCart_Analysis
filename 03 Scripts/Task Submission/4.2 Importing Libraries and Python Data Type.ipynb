{
 "cells": [
  {
   "cell_type": "markdown",
   "id": "79d5816d",
   "metadata": {},
   "source": [
    "# Import libraries"
   ]
  },
  {
   "cell_type": "code",
   "execution_count": 1,
   "id": "b0be4e2e",
   "metadata": {},
   "outputs": [],
   "source": [
    "# Import libraries\n",
    "import pandas as pd\n",
    "import numpy as np\n",
    "import os"
   ]
  },
  {
   "cell_type": "markdown",
   "id": "402f4033",
   "metadata": {},
   "source": [
    "02. Data Types"
   ]
  },
  {
   "cell_type": "code",
   "execution_count": 2,
   "id": "5a345060",
   "metadata": {},
   "outputs": [],
   "source": [
    "x = 50"
   ]
  },
  {
   "cell_type": "code",
   "execution_count": 3,
   "id": "64c3a508",
   "metadata": {},
   "outputs": [
    {
     "data": {
      "text/plain": [
       "100"
      ]
     },
     "execution_count": 3,
     "metadata": {},
     "output_type": "execute_result"
    }
   ],
   "source": [
    "x + 50"
   ]
  },
  {
   "cell_type": "code",
   "execution_count": 7,
   "id": "8e78d4ae",
   "metadata": {},
   "outputs": [
    {
     "data": {
      "text/plain": [
       "100"
      ]
     },
     "execution_count": 7,
     "metadata": {},
     "output_type": "execute_result"
    }
   ],
   "source": [
    "x + x"
   ]
  },
  {
   "cell_type": "code",
   "execution_count": 8,
   "id": "7648a0b4",
   "metadata": {},
   "outputs": [
    {
     "data": {
      "text/plain": [
       "100"
      ]
     },
     "execution_count": 8,
     "metadata": {},
     "output_type": "execute_result"
    }
   ],
   "source": [
    "150 - x"
   ]
  },
  {
   "cell_type": "code",
   "execution_count": 9,
   "id": "83379e88",
   "metadata": {},
   "outputs": [],
   "source": [
    "a = 100.50"
   ]
  },
  {
   "cell_type": "code",
   "execution_count": 10,
   "id": "4fcf3212",
   "metadata": {},
   "outputs": [],
   "source": [
    "b = 10.24"
   ]
  },
  {
   "cell_type": "code",
   "execution_count": 11,
   "id": "1b384a13",
   "metadata": {},
   "outputs": [
    {
     "data": {
      "text/plain": [
       "9.814453125"
      ]
     },
     "execution_count": 11,
     "metadata": {},
     "output_type": "execute_result"
    }
   ],
   "source": [
    "a/b"
   ]
  },
  {
   "cell_type": "code",
   "execution_count": 12,
   "id": "3ac12ed0",
   "metadata": {},
   "outputs": [
    {
     "data": {
      "text/plain": [
       "0.10189054726368159"
      ]
     },
     "execution_count": 12,
     "metadata": {},
     "output_type": "execute_result"
    }
   ],
   "source": [
    "b/a"
   ]
  },
  {
   "cell_type": "code",
   "execution_count": 16,
   "id": "62076373",
   "metadata": {},
   "outputs": [],
   "source": [
    "c = 'Good day, '"
   ]
  },
  {
   "cell_type": "code",
   "execution_count": 20,
   "id": "b9919205",
   "metadata": {},
   "outputs": [],
   "source": [
    "d = 'friend! '"
   ]
  },
  {
   "cell_type": "code",
   "execution_count": 21,
   "id": "11acb133",
   "metadata": {},
   "outputs": [
    {
     "data": {
      "text/plain": [
       "'Good day, friend! '"
      ]
     },
     "execution_count": 21,
     "metadata": {},
     "output_type": "execute_result"
    }
   ],
   "source": [
    "c + d"
   ]
  },
  {
   "cell_type": "code",
   "execution_count": 19,
   "id": "c84e813e",
   "metadata": {},
   "outputs": [],
   "source": [
    "e = 'How is your day?'"
   ]
  },
  {
   "cell_type": "code",
   "execution_count": 22,
   "id": "7b0f1c03",
   "metadata": {},
   "outputs": [
    {
     "data": {
      "text/plain": [
       "'Good day, friend! How is your day?'"
      ]
     },
     "execution_count": 22,
     "metadata": {},
     "output_type": "execute_result"
    }
   ],
   "source": [
    "c + d + e"
   ]
  },
  {
   "cell_type": "code",
   "execution_count": 23,
   "id": "f54b5d86",
   "metadata": {},
   "outputs": [
    {
     "data": {
      "text/plain": [
       "'Good day, friend! How is your day?Good day, friend! How is your day?Good day, friend! How is your day?Good day, friend! How is your day?Good day, friend! How is your day?Good day, friend! How is your day?Good day, friend! How is your day?Good day, friend! How is your day?Good day, friend! How is your day?Good day, friend! How is your day?Good day, friend! How is your day?Good day, friend! How is your day?Good day, friend! How is your day?Good day, friend! How is your day?Good day, friend! How is your day?Good day, friend! How is your day?Good day, friend! How is your day?Good day, friend! How is your day?Good day, friend! How is your day?Good day, friend! How is your day?Good day, friend! How is your day?Good day, friend! How is your day?Good day, friend! How is your day?Good day, friend! How is your day?Good day, friend! How is your day?Good day, friend! How is your day?Good day, friend! How is your day?Good day, friend! How is your day?Good day, friend! How is your day?Good day, friend! How is your day?Good day, friend! How is your day?Good day, friend! How is your day?Good day, friend! How is your day?Good day, friend! How is your day?Good day, friend! How is your day?Good day, friend! How is your day?Good day, friend! How is your day?Good day, friend! How is your day?Good day, friend! How is your day?Good day, friend! How is your day?Good day, friend! How is your day?Good day, friend! How is your day?Good day, friend! How is your day?Good day, friend! How is your day?Good day, friend! How is your day?Good day, friend! How is your day?Good day, friend! How is your day?Good day, friend! How is your day?Good day, friend! How is your day?Good day, friend! How is your day?Good day, friend! How is your day?Good day, friend! How is your day?Good day, friend! How is your day?Good day, friend! How is your day?Good day, friend! How is your day?Good day, friend! How is your day?Good day, friend! How is your day?Good day, friend! How is your day?Good day, friend! How is your day?Good day, friend! How is your day?Good day, friend! How is your day?Good day, friend! How is your day?Good day, friend! How is your day?Good day, friend! How is your day?Good day, friend! How is your day?Good day, friend! How is your day?Good day, friend! How is your day?Good day, friend! How is your day?Good day, friend! How is your day?Good day, friend! How is your day?Good day, friend! How is your day?Good day, friend! How is your day?Good day, friend! How is your day?Good day, friend! How is your day?Good day, friend! How is your day?Good day, friend! How is your day?Good day, friend! How is your day?Good day, friend! How is your day?Good day, friend! How is your day?Good day, friend! How is your day?Good day, friend! How is your day?Good day, friend! How is your day?Good day, friend! How is your day?Good day, friend! How is your day?Good day, friend! How is your day?Good day, friend! How is your day?Good day, friend! How is your day?Good day, friend! How is your day?Good day, friend! How is your day?Good day, friend! How is your day?Good day, friend! How is your day?Good day, friend! How is your day?Good day, friend! How is your day?Good day, friend! How is your day?Good day, friend! How is your day?Good day, friend! How is your day?Good day, friend! How is your day?Good day, friend! How is your day?Good day, friend! How is your day?Good day, friend! How is your day?'"
      ]
     },
     "execution_count": 23,
     "metadata": {},
     "output_type": "execute_result"
    }
   ],
   "source": [
    "(c + d + e)*100"
   ]
  },
  {
   "cell_type": "code",
   "execution_count": null,
   "id": "91377ce1",
   "metadata": {},
   "outputs": [],
   "source": []
  }
 ],
 "metadata": {
  "kernelspec": {
   "display_name": "Python 3 (ipykernel)",
   "language": "python",
   "name": "python3"
  },
  "language_info": {
   "codemirror_mode": {
    "name": "ipython",
    "version": 3
   },
   "file_extension": ".py",
   "mimetype": "text/x-python",
   "name": "python",
   "nbconvert_exporter": "python",
   "pygments_lexer": "ipython3",
   "version": "3.9.13"
  }
 },
 "nbformat": 4,
 "nbformat_minor": 5
}
